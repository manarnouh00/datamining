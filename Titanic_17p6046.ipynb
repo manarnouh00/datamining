{
 "cells": [
  {
   "cell_type": "code",
   "execution_count": 1,
   "metadata": {},
   "outputs": [],
   "source": [
    "# import libraries\n",
    "import pandas as pd\n",
    "import numpy as np \n",
    "import seaborn as sns \n",
    "import matplotlib.pyplot as plt\n",
    "%matplotlib inline\n",
    "plt.style.use('ggplot')\n",
    "\n",
    "from sklearn.model_selection import train_test_split\n",
    "from sklearn.linear_model import RidgeClassifier\n",
    "from sklearn.linear_model import LogisticRegression\n",
    "\n",
    "from sklearn import preprocessing\n",
    "from sklearn.utils import resample\n",
    "from sklearn.metrics import accuracy_score, precision_score, recall_score, f1_score, classification_report\n",
    "from scikitplot.metrics import plot_confusion_matrix"
   ]
  },
  {
   "cell_type": "code",
   "execution_count": 2,
   "metadata": {},
   "outputs": [],
   "source": [
    "# read data into dataframes\n",
    "train_df = pd.read_csv(r'data\\train.csv')"
   ]
  },
  {
   "cell_type": "code",
   "execution_count": 3,
   "metadata": {},
   "outputs": [
    {
     "name": "stdout",
     "output_type": "stream",
     "text": [
      "Columns =  ['PassengerId' 'Survived' 'Pclass' 'Name' 'Sex' 'Age' 'SibSp' 'Parch'\n",
      " 'Ticket' 'Fare' 'Cabin' 'Embarked']\n",
      "________________________________________________________________________________\n",
      "Dataframe size =  (891, 12)\n",
      "________________________________________________________________________________\n",
      "Number of null entries\n",
      "PassengerId      0\n",
      "Survived         0\n",
      "Pclass           0\n",
      "Name             0\n",
      "Sex              0\n",
      "Age            177\n",
      "SibSp            0\n",
      "Parch            0\n",
      "Ticket           0\n",
      "Fare             0\n",
      "Cabin          687\n",
      "Embarked         2\n",
      "dtype: int64\n",
      "________________________________________________________________________________\n",
      "Statistics\n",
      "         Survived      Pclass         Age       SibSp       Parch        Fare\n",
      "count  891.000000  891.000000  714.000000  891.000000  891.000000  891.000000\n",
      "mean     0.383838    2.308642   29.699118    0.523008    0.381594   32.204208\n",
      "std      0.486592    0.836071   14.526497    1.102743    0.806057   49.693429\n",
      "min      0.000000    1.000000    0.420000    0.000000    0.000000    0.000000\n",
      "25%      0.000000    2.000000   20.125000    0.000000    0.000000    7.910400\n",
      "50%      0.000000    3.000000   28.000000    0.000000    0.000000   14.454200\n",
      "75%      1.000000    3.000000   38.000000    1.000000    0.000000   31.000000\n",
      "max      1.000000    3.000000   80.000000    8.000000    6.000000  512.329200\n"
     ]
    }
   ],
   "source": [
    "print(\"Columns = \",np.array2string(train_df.columns))\n",
    "print(\"________________________________________________________________________________\")\n",
    "print(\"Dataframe size = \",train_df.shape)\n",
    "print(\"________________________________________________________________________________\")\n",
    "print(\"Number of null entries\")\n",
    "print(train_df.isna().sum())\n",
    "print(\"________________________________________________________________________________\")\n",
    "print(\"Statistics\")\n",
    "print(train_df.drop(columns=['PassengerId','Name']).describe().to_string())"
   ]
  },
  {
   "cell_type": "markdown",
   "metadata": {},
   "source": [
    "#### Variable Notes \n",
    "pclass: A proxy for socio-economic status (SES)\n",
    "1st = Upper\n",
    "2nd = Middle\n",
    "3rd = Lower\n",
    "\n",
    "age: Age is fractional if less than 1. If the age is estimated, is it in the form of xx.5 \n",
    "\n",
    "sibsp: The dataset defines family relations in this way\n",
    "\n",
    "\n",
    "Sibling = brother, sister, stepbrother, stepsister\n",
    "Spouse = husband, wife (mistresses and fiancés were ignored)\n",
    "\n",
    "parch: The dataset defines family relations in this way\n",
    "\n",
    "\n",
    "Parent = mother, father\n",
    "Child = daughter, son, stepdaughter, stepson\n",
    "Some children travelled only with a nanny, therefore parch=0 for them."
   ]
  },
  {
   "cell_type": "markdown",
   "metadata": {},
   "source": [
    "## Data Preprocessing"
   ]
  },
  {
   "cell_type": "code",
   "execution_count": 4,
   "metadata": {},
   "outputs": [],
   "source": [
    "#create a family size column, combining both sibsp and parch columns\n",
    "train_df['Family Size'] = train_df['SibSp'] +train_df['Parch'] "
   ]
  },
  {
   "cell_type": "code",
   "execution_count": 5,
   "metadata": {
    "scrolled": false
   },
   "outputs": [
    {
     "data": {
      "text/plain": [
       "(681,)"
      ]
     },
     "execution_count": 5,
     "metadata": {},
     "output_type": "execute_result"
    }
   ],
   "source": [
    "train_df['Ticket'].unique().shape"
   ]
  },
  {
   "cell_type": "code",
   "execution_count": 6,
   "metadata": {},
   "outputs": [
    {
     "name": "stdout",
     "output_type": "stream",
     "text": [
      "Ticket = A/5 21171\n",
      " 0    1\n",
      "\n",
      "Ticket = PC 17599\n",
      " 1    1\n",
      "\n",
      "Ticket = STON/O2. 3101282\n",
      " 2    0\n",
      "\n",
      "Ticket = 113803\n",
      " 3      1\n",
      "137    1\n",
      "\n",
      "Ticket = 373450\n",
      " 4    0\n",
      "\n"
     ]
    }
   ],
   "source": [
    "df = pd.DataFrame(columns =train_df.columns)\n",
    "for x in train_df['Ticket'].head(5):\n",
    "    print(\"Ticket = {}\\n {}\\n\".format(x,train_df['Family Size'].loc[train_df['Ticket']== x].to_string()))"
   ]
  },
  {
   "cell_type": "markdown",
   "metadata": {},
   "source": [
    "The same ticket number indicate that the group were traveling together"
   ]
  },
  {
   "cell_type": "code",
   "execution_count": 7,
   "metadata": {},
   "outputs": [],
   "source": [
    "# create an alone column for passengers that boarded the titanic alone\n",
    "#ticket number only available for one passenger and family size is 0\n",
    "test = train_df.set_index('Ticket')\n",
    "test['Alone'] = np.nan\n",
    "test.loc[(train_df.groupby(['Ticket']).count()['PassengerId'] ==1),'Alone'] = 1\n",
    "test.loc[(test['Family Size'] > 0) & (test['Alone'] == 1), 'Alone'] = 0\n",
    "test['Alone'] = test['Alone'].fillna(0)\n",
    "train_df['Alone'] = train_df.PassengerId.map(test.set_index('PassengerId')['Alone'])\n",
    "train_df.drop(columns=['Ticket'],inplace=True)"
   ]
  },
  {
   "cell_type": "code",
   "execution_count": 8,
   "metadata": {},
   "outputs": [
    {
     "data": {
      "text/html": [
       "<div>\n",
       "<style scoped>\n",
       "    .dataframe tbody tr th:only-of-type {\n",
       "        vertical-align: middle;\n",
       "    }\n",
       "\n",
       "    .dataframe tbody tr th {\n",
       "        vertical-align: top;\n",
       "    }\n",
       "\n",
       "    .dataframe thead th {\n",
       "        text-align: right;\n",
       "    }\n",
       "</style>\n",
       "<table border=\"1\" class=\"dataframe\">\n",
       "  <thead>\n",
       "    <tr style=\"text-align: right;\">\n",
       "      <th></th>\n",
       "      <th>PassengerId</th>\n",
       "      <th>Survived</th>\n",
       "      <th>Pclass</th>\n",
       "      <th>Name</th>\n",
       "      <th>Sex</th>\n",
       "      <th>Age</th>\n",
       "      <th>SibSp</th>\n",
       "      <th>Parch</th>\n",
       "      <th>Fare</th>\n",
       "      <th>Cabin</th>\n",
       "      <th>Embarked</th>\n",
       "      <th>Family Size</th>\n",
       "      <th>Alone</th>\n",
       "    </tr>\n",
       "  </thead>\n",
       "  <tbody>\n",
       "    <tr>\n",
       "      <th>0</th>\n",
       "      <td>1</td>\n",
       "      <td>0</td>\n",
       "      <td>3</td>\n",
       "      <td>Braund, Mr. Owen Harris</td>\n",
       "      <td>male</td>\n",
       "      <td>22.000000</td>\n",
       "      <td>1</td>\n",
       "      <td>0</td>\n",
       "      <td>7.2500</td>\n",
       "      <td>NaN</td>\n",
       "      <td>S</td>\n",
       "      <td>1</td>\n",
       "      <td>0.0</td>\n",
       "    </tr>\n",
       "    <tr>\n",
       "      <th>1</th>\n",
       "      <td>2</td>\n",
       "      <td>1</td>\n",
       "      <td>1</td>\n",
       "      <td>Cumings, Mrs. John Bradley (Florence Briggs Th...</td>\n",
       "      <td>female</td>\n",
       "      <td>38.000000</td>\n",
       "      <td>1</td>\n",
       "      <td>0</td>\n",
       "      <td>71.2833</td>\n",
       "      <td>C85</td>\n",
       "      <td>C</td>\n",
       "      <td>1</td>\n",
       "      <td>0.0</td>\n",
       "    </tr>\n",
       "    <tr>\n",
       "      <th>2</th>\n",
       "      <td>3</td>\n",
       "      <td>1</td>\n",
       "      <td>3</td>\n",
       "      <td>Heikkinen, Miss. Laina</td>\n",
       "      <td>female</td>\n",
       "      <td>26.000000</td>\n",
       "      <td>0</td>\n",
       "      <td>0</td>\n",
       "      <td>7.9250</td>\n",
       "      <td>NaN</td>\n",
       "      <td>S</td>\n",
       "      <td>0</td>\n",
       "      <td>1.0</td>\n",
       "    </tr>\n",
       "    <tr>\n",
       "      <th>3</th>\n",
       "      <td>4</td>\n",
       "      <td>1</td>\n",
       "      <td>1</td>\n",
       "      <td>Futrelle, Mrs. Jacques Heath (Lily May Peel)</td>\n",
       "      <td>female</td>\n",
       "      <td>35.000000</td>\n",
       "      <td>1</td>\n",
       "      <td>0</td>\n",
       "      <td>53.1000</td>\n",
       "      <td>C123</td>\n",
       "      <td>S</td>\n",
       "      <td>1</td>\n",
       "      <td>0.0</td>\n",
       "    </tr>\n",
       "    <tr>\n",
       "      <th>4</th>\n",
       "      <td>5</td>\n",
       "      <td>0</td>\n",
       "      <td>3</td>\n",
       "      <td>Allen, Mr. William Henry</td>\n",
       "      <td>male</td>\n",
       "      <td>35.000000</td>\n",
       "      <td>0</td>\n",
       "      <td>0</td>\n",
       "      <td>8.0500</td>\n",
       "      <td>NaN</td>\n",
       "      <td>S</td>\n",
       "      <td>0</td>\n",
       "      <td>1.0</td>\n",
       "    </tr>\n",
       "    <tr>\n",
       "      <th>...</th>\n",
       "      <td>...</td>\n",
       "      <td>...</td>\n",
       "      <td>...</td>\n",
       "      <td>...</td>\n",
       "      <td>...</td>\n",
       "      <td>...</td>\n",
       "      <td>...</td>\n",
       "      <td>...</td>\n",
       "      <td>...</td>\n",
       "      <td>...</td>\n",
       "      <td>...</td>\n",
       "      <td>...</td>\n",
       "      <td>...</td>\n",
       "    </tr>\n",
       "    <tr>\n",
       "      <th>886</th>\n",
       "      <td>887</td>\n",
       "      <td>0</td>\n",
       "      <td>2</td>\n",
       "      <td>Montvila, Rev. Juozas</td>\n",
       "      <td>male</td>\n",
       "      <td>27.000000</td>\n",
       "      <td>0</td>\n",
       "      <td>0</td>\n",
       "      <td>13.0000</td>\n",
       "      <td>NaN</td>\n",
       "      <td>S</td>\n",
       "      <td>0</td>\n",
       "      <td>1.0</td>\n",
       "    </tr>\n",
       "    <tr>\n",
       "      <th>887</th>\n",
       "      <td>888</td>\n",
       "      <td>1</td>\n",
       "      <td>1</td>\n",
       "      <td>Graham, Miss. Margaret Edith</td>\n",
       "      <td>female</td>\n",
       "      <td>19.000000</td>\n",
       "      <td>0</td>\n",
       "      <td>0</td>\n",
       "      <td>30.0000</td>\n",
       "      <td>B42</td>\n",
       "      <td>S</td>\n",
       "      <td>0</td>\n",
       "      <td>1.0</td>\n",
       "    </tr>\n",
       "    <tr>\n",
       "      <th>888</th>\n",
       "      <td>889</td>\n",
       "      <td>0</td>\n",
       "      <td>3</td>\n",
       "      <td>Johnston, Miss. Catherine Helen \"Carrie\"</td>\n",
       "      <td>female</td>\n",
       "      <td>29.699118</td>\n",
       "      <td>1</td>\n",
       "      <td>2</td>\n",
       "      <td>23.4500</td>\n",
       "      <td>NaN</td>\n",
       "      <td>S</td>\n",
       "      <td>3</td>\n",
       "      <td>0.0</td>\n",
       "    </tr>\n",
       "    <tr>\n",
       "      <th>889</th>\n",
       "      <td>890</td>\n",
       "      <td>1</td>\n",
       "      <td>1</td>\n",
       "      <td>Behr, Mr. Karl Howell</td>\n",
       "      <td>male</td>\n",
       "      <td>26.000000</td>\n",
       "      <td>0</td>\n",
       "      <td>0</td>\n",
       "      <td>30.0000</td>\n",
       "      <td>C148</td>\n",
       "      <td>C</td>\n",
       "      <td>0</td>\n",
       "      <td>1.0</td>\n",
       "    </tr>\n",
       "    <tr>\n",
       "      <th>890</th>\n",
       "      <td>891</td>\n",
       "      <td>0</td>\n",
       "      <td>3</td>\n",
       "      <td>Dooley, Mr. Patrick</td>\n",
       "      <td>male</td>\n",
       "      <td>32.000000</td>\n",
       "      <td>0</td>\n",
       "      <td>0</td>\n",
       "      <td>7.7500</td>\n",
       "      <td>NaN</td>\n",
       "      <td>Q</td>\n",
       "      <td>0</td>\n",
       "      <td>1.0</td>\n",
       "    </tr>\n",
       "  </tbody>\n",
       "</table>\n",
       "<p>891 rows × 13 columns</p>\n",
       "</div>"
      ],
      "text/plain": [
       "     PassengerId  Survived  Pclass  \\\n",
       "0              1         0       3   \n",
       "1              2         1       1   \n",
       "2              3         1       3   \n",
       "3              4         1       1   \n",
       "4              5         0       3   \n",
       "..           ...       ...     ...   \n",
       "886          887         0       2   \n",
       "887          888         1       1   \n",
       "888          889         0       3   \n",
       "889          890         1       1   \n",
       "890          891         0       3   \n",
       "\n",
       "                                                  Name     Sex        Age  \\\n",
       "0                              Braund, Mr. Owen Harris    male  22.000000   \n",
       "1    Cumings, Mrs. John Bradley (Florence Briggs Th...  female  38.000000   \n",
       "2                               Heikkinen, Miss. Laina  female  26.000000   \n",
       "3         Futrelle, Mrs. Jacques Heath (Lily May Peel)  female  35.000000   \n",
       "4                             Allen, Mr. William Henry    male  35.000000   \n",
       "..                                                 ...     ...        ...   \n",
       "886                              Montvila, Rev. Juozas    male  27.000000   \n",
       "887                       Graham, Miss. Margaret Edith  female  19.000000   \n",
       "888           Johnston, Miss. Catherine Helen \"Carrie\"  female  29.699118   \n",
       "889                              Behr, Mr. Karl Howell    male  26.000000   \n",
       "890                                Dooley, Mr. Patrick    male  32.000000   \n",
       "\n",
       "     SibSp  Parch     Fare Cabin Embarked  Family Size  Alone  \n",
       "0        1      0   7.2500   NaN        S            1    0.0  \n",
       "1        1      0  71.2833   C85        C            1    0.0  \n",
       "2        0      0   7.9250   NaN        S            0    1.0  \n",
       "3        1      0  53.1000  C123        S            1    0.0  \n",
       "4        0      0   8.0500   NaN        S            0    1.0  \n",
       "..     ...    ...      ...   ...      ...          ...    ...  \n",
       "886      0      0  13.0000   NaN        S            0    1.0  \n",
       "887      0      0  30.0000   B42        S            0    1.0  \n",
       "888      1      2  23.4500   NaN        S            3    0.0  \n",
       "889      0      0  30.0000  C148        C            0    1.0  \n",
       "890      0      0   7.7500   NaN        Q            0    1.0  \n",
       "\n",
       "[891 rows x 13 columns]"
      ]
     },
     "execution_count": 8,
     "metadata": {},
     "output_type": "execute_result"
    }
   ],
   "source": [
    "# fill the null age values with the mean age value\n",
    "train_df['Age'] = train_df['Age'].fillna(train_df['Age'].mean())\n",
    "train_df"
   ]
  },
  {
   "cell_type": "code",
   "execution_count": 9,
   "metadata": {},
   "outputs": [
    {
     "data": {
      "text/plain": [
       "S    127\n",
       "C     85\n",
       "Q      2\n",
       "Name: Embarked, dtype: int64"
      ]
     },
     "execution_count": 9,
     "metadata": {},
     "output_type": "execute_result"
    }
   ],
   "source": [
    "train_df.loc[train_df['Embarked'].isna()== True] \n",
    "train_df['Embarked'].loc[train_df['Pclass']== 1].value_counts()"
   ]
  },
  {
   "cell_type": "code",
   "execution_count": 10,
   "metadata": {},
   "outputs": [],
   "source": [
    "train_df['Embarked'] = train_df['Embarked'].fillna(train_df['Embarked'].mode()[0])"
   ]
  },
  {
   "cell_type": "code",
   "execution_count": 11,
   "metadata": {},
   "outputs": [],
   "source": [
    "#set passengerid as index\n",
    "train_df.set_index('PassengerId',inplace=True)"
   ]
  },
  {
   "cell_type": "markdown",
   "metadata": {},
   "source": [
    "## Data Visualization"
   ]
  },
  {
   "cell_type": "code",
   "execution_count": 12,
   "metadata": {
    "scrolled": false
   },
   "outputs": [
    {
     "data": {
      "image/png": "[encoded data removed]",
      "text/plain": [
       "<Figure size 1080x720 with 4 Axes>"
      ]
     },
     "metadata": {},
     "output_type": "display_data"
    }
   ],
   "source": [
    "fig, ax =plt.subplots(2,2,figsize=(15,10))\n",
    "\n",
    "sns.barplot(data=train_df,\n",
    "            y=train_df['Survived'].value_counts(normalize = True).rename('Percentage'),\n",
    "            x=train_df['Survived'].unique(), \n",
    "            ax=ax[0][0])\n",
    "ax[0][0].set_xlabel('Survived')\n",
    "\n",
    "sns.barplot(data=train_df,\n",
    "            y=train_df['Sex'].value_counts(normalize = True).rename('Percentage'),\n",
    "            x=train_df['Sex'].unique(),\n",
    "            ax=ax[0][1])\n",
    "ax[0][1].set_xlabel('Gender')\n",
    "\n",
    "sns.barplot(data=train_df,\n",
    "            y=train_df['Pclass'].value_counts(normalize = True).rename('Percentage'),\n",
    "            x=train_df['Pclass'].unique(),\n",
    "            ax=ax[1][0])\n",
    "ax[1][0].set_xlabel('Class')\n",
    "\n",
    "sns.barplot(data=train_df,\n",
    "            y=train_df['Embarked'].value_counts(normalize = True).rename('Percentage'),\n",
    "            x=train_df['Embarked'].unique(),\n",
    "            ax=ax[1][1])\n",
    "ax[1][1].set_xlabel('Embarked')\n",
    "\n",
    "plt.suptitle(\"Frequency of Passengers\")\n",
    "plt.show()"
   ]
  },
  {
   "cell_type": "code",
   "execution_count": 13,
   "metadata": {},
   "outputs": [
    {
     "data": {
      "image/png": "[encoded data removed]",
      "text/plain": [
       "<Figure size 1080x432 with 3 Axes>"
      ]
     },
     "metadata": {},
     "output_type": "display_data"
    }
   ],
   "source": [
    "fig, ax =plt.subplots(1,3,figsize=(15,6))\n",
    "sns.countplot(data=train_df,\n",
    "              hue='Sex', \n",
    "              x='Survived',\n",
    "              ax=ax[0])\n",
    "\n",
    "sns.countplot(data=train_df,\n",
    "              hue=\"Pclass\", \n",
    "              x='Survived',\n",
    "              ax=ax[1])\n",
    "\n",
    "sns.countplot(data=train_df,\n",
    "              hue='Embarked', \n",
    "              x='Survived',\n",
    "              ax=ax[2])\n",
    "plt.suptitle(\"Frequency of passenger survival\")\n",
    "plt.show()"
   ]
  },
  {
   "cell_type": "code",
   "execution_count": 14,
   "metadata": {},
   "outputs": [
    {
     "name": "stdout",
     "output_type": "stream",
     "text": [
      "\t\t\t\u001b[1mPassenger Survival based on class and embarked port\u001b[0m\n"
     ]
    },
    {
     "data": {
      "image/png": "[encoded data removed]",
      "text/plain": [
       "<Figure size 778.25x360 with 2 Axes>"
      ]
     },
     "metadata": {},
     "output_type": "display_data"
    },
    {
     "name": "stdout",
     "output_type": "stream",
     "text": [
      "\t\t\t\u001b[1mPassenger Survival based on Gender and alone or not\u001b[0m\n"
     ]
    },
    {
     "data": {
      "image/png": "[encoded data removed]",
      "text/plain": [
       "<Figure size 771.875x360 with 2 Axes>"
      ]
     },
     "metadata": {},
     "output_type": "display_data"
    }
   ],
   "source": [
    "print(\"\\t\\t\\t\\033[1mPassenger Survival based on class and embarked port\\033[0m\")\n",
    "sns.catplot(data=train_df,\n",
    "            hue='Embarked', \n",
    "            x='Pclass',\n",
    "            col='Survived',\n",
    "            kind='count')\n",
    "plt.show()\n",
    "print(\"\\t\\t\\t\\033[1mPassenger Survival based on Gender and alone or not\\033[0m\")\n",
    "sns.catplot(data=train_df,\n",
    "            hue='Alone', \n",
    "            x='Sex', \n",
    "            col='Survived',\n",
    "            kind='count')\n",
    "plt.show()"
   ]
  },
  {
   "cell_type": "code",
   "execution_count": 15,
   "metadata": {},
   "outputs": [
    {
     "data": {
      "image/png": "[encoded data removed]",
      "text/plain": [
       "<Figure size 1080x432 with 3 Axes>"
      ]
     },
     "metadata": {},
     "output_type": "display_data"
    }
   ],
   "source": [
    "fig, ax =plt.subplots(1,3,figsize=(15,6))\n",
    "ax[0].boxplot(train_df['Age'], \n",
    "              flierprops=dict(markerfacecolor='b', \n",
    "                              marker='o'), \n",
    "              showfliers=True, \n",
    "              vert=True)\n",
    "ax[0].set_xlabel('Age Box Plot', size=16)\n",
    "\n",
    "\n",
    "ax[1].boxplot(train_df['Fare'], \n",
    "              flierprops=dict(markerfacecolor='b', \n",
    "                              marker='o'), \n",
    "              showfliers=True, \n",
    "              vert=True)\n",
    "ax[1].set_xlabel('Fare Box Plot', size=16)\n",
    "\n",
    "ax[2].boxplot(train_df['Family Size'], \n",
    "              flierprops=dict(markerfacecolor='b', \n",
    "                              marker='o'), \n",
    "              showfliers=True, \n",
    "              vert=True)\n",
    "ax[2].set_xlabel('Family Size Box Plot', \n",
    "                 size=16)\n",
    "plt.show()"
   ]
  },
  {
   "cell_type": "markdown",
   "metadata": {},
   "source": [
    "- The data is imbalanced, the passengers who didn't survive are almost twice the number of passengers that survived\n",
    "- From the data we can see that more male passengers didn't survive\n",
    "- More class 3 passengers didn't survive compared to other classes\n",
    "- Most passengers were around the age of 3 and 53, more condensend from early twenties to mid thirties\n",
    "- Most passengers had a fairly low fare, with outliers having fare from 70s to 500s\n",
    "- The average family size is zero and outliers start from more than 2, meaning that not alot of families                        were on board \n",
    "    "
   ]
  },
  {
   "cell_type": "code",
   "execution_count": 16,
   "metadata": {
    "scrolled": true
   },
   "outputs": [
    {
     "data": {
      "image/png": "[encoded data removed]",
      "text/plain": [
       "<Figure size 1440x288 with 3 Axes>"
      ]
     },
     "metadata": {},
     "output_type": "display_data"
    }
   ],
   "source": [
    "fig, ax = plt.subplots(1,3,figsize=(20,4),sharey=True)\n",
    "\n",
    "ax[0].scatter(train_df['Fare'], \n",
    "              train_df['Survived'])\n",
    "ax[0].set_xlabel('Fare vs. Survived')\n",
    "\n",
    "ax[1].scatter(train_df['Family Size'], \n",
    "              train_df['Survived'])\n",
    "ax[1].set_xlabel('Family size vs Survived')\n",
    "\n",
    "ax[2].scatter(train_df['Age'], \n",
    "              train_df['Survived'])\n",
    "ax[2].set_xlabel('Age vs. Survived')\n",
    "\n",
    "plt.show()"
   ]
  },
  {
   "cell_type": "markdown",
   "metadata": {},
   "source": [
    "- Fare, family size and age are normally distributed features"
   ]
  },
  {
   "cell_type": "code",
   "execution_count": 17,
   "metadata": {},
   "outputs": [
    {
     "data": {
      "text/html": [
       "<style  type=\"text/css\" >\n",
       "#T_0ea71e4c_c72f_11eb_9e61_005056c00008row0_col0,#T_0ea71e4c_c72f_11eb_9e61_005056c00008row1_col1,#T_0ea71e4c_c72f_11eb_9e61_005056c00008row2_col2,#T_0ea71e4c_c72f_11eb_9e61_005056c00008row3_col3,#T_0ea71e4c_c72f_11eb_9e61_005056c00008row4_col4,#T_0ea71e4c_c72f_11eb_9e61_005056c00008row5_col5,#T_0ea71e4c_c72f_11eb_9e61_005056c00008row6_col6,#T_0ea71e4c_c72f_11eb_9e61_005056c00008row7_col7{\n",
       "            background-color:  #b40426;\n",
       "            color:  #f1f1f1;\n",
       "        }#T_0ea71e4c_c72f_11eb_9e61_005056c00008row0_col1{\n",
       "            background-color:  #6485ec;\n",
       "            color:  #000000;\n",
       "        }#T_0ea71e4c_c72f_11eb_9e61_005056c00008row0_col2{\n",
       "            background-color:  #7a9df8;\n",
       "            color:  #000000;\n",
       "        }#T_0ea71e4c_c72f_11eb_9e61_005056c00008row0_col3{\n",
       "            background-color:  #a1c0ff;\n",
       "            color:  #000000;\n",
       "        }#T_0ea71e4c_c72f_11eb_9e61_005056c00008row0_col4,#T_0ea71e4c_c72f_11eb_9e61_005056c00008row1_col3{\n",
       "            background-color:  #bbd1f8;\n",
       "            color:  #000000;\n",
       "        }#T_0ea71e4c_c72f_11eb_9e61_005056c00008row0_col5{\n",
       "            background-color:  #e2dad5;\n",
       "            color:  #000000;\n",
       "        }#T_0ea71e4c_c72f_11eb_9e61_005056c00008row0_col6{\n",
       "            background-color:  #b9d0f9;\n",
       "            color:  #000000;\n",
       "        }#T_0ea71e4c_c72f_11eb_9e61_005056c00008row0_col7{\n",
       "            background-color:  #81a4fb;\n",
       "            color:  #000000;\n",
       "        }#T_0ea71e4c_c72f_11eb_9e61_005056c00008row1_col0,#T_0ea71e4c_c72f_11eb_9e61_005056c00008row1_col2,#T_0ea71e4c_c72f_11eb_9e61_005056c00008row1_col5,#T_0ea71e4c_c72f_11eb_9e61_005056c00008row5_col1,#T_0ea71e4c_c72f_11eb_9e61_005056c00008row6_col7,#T_0ea71e4c_c72f_11eb_9e61_005056c00008row7_col3,#T_0ea71e4c_c72f_11eb_9e61_005056c00008row7_col4,#T_0ea71e4c_c72f_11eb_9e61_005056c00008row7_col6{\n",
       "            background-color:  #3b4cc0;\n",
       "            color:  #f1f1f1;\n",
       "        }#T_0ea71e4c_c72f_11eb_9e61_005056c00008row1_col4{\n",
       "            background-color:  #adc9fd;\n",
       "            color:  #000000;\n",
       "        }#T_0ea71e4c_c72f_11eb_9e61_005056c00008row1_col6,#T_0ea71e4c_c72f_11eb_9e61_005056c00008row3_col1{\n",
       "            background-color:  #c3d5f4;\n",
       "            color:  #000000;\n",
       "        }#T_0ea71e4c_c72f_11eb_9e61_005056c00008row1_col7,#T_0ea71e4c_c72f_11eb_9e61_005056c00008row5_col6{\n",
       "            background-color:  #dedcdb;\n",
       "            color:  #000000;\n",
       "        }#T_0ea71e4c_c72f_11eb_9e61_005056c00008row2_col0{\n",
       "            background-color:  #7b9ff9;\n",
       "            color:  #000000;\n",
       "        }#T_0ea71e4c_c72f_11eb_9e61_005056c00008row2_col1{\n",
       "            background-color:  #6788ee;\n",
       "            color:  #000000;\n",
       "        }#T_0ea71e4c_c72f_11eb_9e61_005056c00008row2_col3{\n",
       "            background-color:  #7295f4;\n",
       "            color:  #000000;\n",
       "        }#T_0ea71e4c_c72f_11eb_9e61_005056c00008row2_col4,#T_0ea71e4c_c72f_11eb_9e61_005056c00008row2_col6{\n",
       "            background-color:  #7ea1fa;\n",
       "            color:  #000000;\n",
       "        }#T_0ea71e4c_c72f_11eb_9e61_005056c00008row2_col5{\n",
       "            background-color:  #c4d5f3;\n",
       "            color:  #000000;\n",
       "        }#T_0ea71e4c_c72f_11eb_9e61_005056c00008row2_col7{\n",
       "            background-color:  #d5dbe5;\n",
       "            color:  #000000;\n",
       "        }#T_0ea71e4c_c72f_11eb_9e61_005056c00008row3_col0{\n",
       "            background-color:  #84a7fc;\n",
       "            color:  #000000;\n",
       "        }#T_0ea71e4c_c72f_11eb_9e61_005056c00008row3_col2,#T_0ea71e4c_c72f_11eb_9e61_005056c00008row7_col0{\n",
       "            background-color:  #506bda;\n",
       "            color:  #000000;\n",
       "        }#T_0ea71e4c_c72f_11eb_9e61_005056c00008row3_col4,#T_0ea71e4c_c72f_11eb_9e61_005056c00008row4_col3{\n",
       "            background-color:  #f2c9b4;\n",
       "            color:  #000000;\n",
       "        }#T_0ea71e4c_c72f_11eb_9e61_005056c00008row3_col5{\n",
       "            background-color:  #d2dbe8;\n",
       "            color:  #000000;\n",
       "        }#T_0ea71e4c_c72f_11eb_9e61_005056c00008row3_col6{\n",
       "            background-color:  #cc403a;\n",
       "            color:  #f1f1f1;\n",
       "        }#T_0ea71e4c_c72f_11eb_9e61_005056c00008row3_col7,#T_0ea71e4c_c72f_11eb_9e61_005056c00008row4_col7{\n",
       "            background-color:  #4b64d5;\n",
       "            color:  #f1f1f1;\n",
       "        }#T_0ea71e4c_c72f_11eb_9e61_005056c00008row4_col0{\n",
       "            background-color:  #a3c2fe;\n",
       "            color:  #000000;\n",
       "        }#T_0ea71e4c_c72f_11eb_9e61_005056c00008row4_col1{\n",
       "            background-color:  #b5cdfa;\n",
       "            color:  #000000;\n",
       "        }#T_0ea71e4c_c72f_11eb_9e61_005056c00008row4_col2{\n",
       "            background-color:  #5e7de7;\n",
       "            color:  #000000;\n",
       "        }#T_0ea71e4c_c72f_11eb_9e61_005056c00008row4_col5,#T_0ea71e4c_c72f_11eb_9e61_005056c00008row6_col5,#T_0ea71e4c_c72f_11eb_9e61_005056c00008row7_col1{\n",
       "            background-color:  #dbdcde;\n",
       "            color:  #000000;\n",
       "        }#T_0ea71e4c_c72f_11eb_9e61_005056c00008row4_col6{\n",
       "            background-color:  #e16751;\n",
       "            color:  #000000;\n",
       "        }#T_0ea71e4c_c72f_11eb_9e61_005056c00008row5_col0{\n",
       "            background-color:  #cdd9ec;\n",
       "            color:  #000000;\n",
       "        }#T_0ea71e4c_c72f_11eb_9e61_005056c00008row5_col2{\n",
       "            background-color:  #a5c3fe;\n",
       "            color:  #000000;\n",
       "        }#T_0ea71e4c_c72f_11eb_9e61_005056c00008row5_col3{\n",
       "            background-color:  #cbd8ee;\n",
       "            color:  #000000;\n",
       "        }#T_0ea71e4c_c72f_11eb_9e61_005056c00008row5_col4{\n",
       "            background-color:  #d6dce4;\n",
       "            color:  #000000;\n",
       "        }#T_0ea71e4c_c72f_11eb_9e61_005056c00008row5_col7{\n",
       "            background-color:  #5d7ce6;\n",
       "            color:  #000000;\n",
       "        }#T_0ea71e4c_c72f_11eb_9e61_005056c00008row6_col0{\n",
       "            background-color:  #92b4fe;\n",
       "            color:  #000000;\n",
       "        }#T_0ea71e4c_c72f_11eb_9e61_005056c00008row6_col1{\n",
       "            background-color:  #bfd3f6;\n",
       "            color:  #000000;\n",
       "        }#T_0ea71e4c_c72f_11eb_9e61_005056c00008row6_col2{\n",
       "            background-color:  #4c66d6;\n",
       "            color:  #000000;\n",
       "        }#T_0ea71e4c_c72f_11eb_9e61_005056c00008row6_col3{\n",
       "            background-color:  #cd423b;\n",
       "            color:  #f1f1f1;\n",
       "        }#T_0ea71e4c_c72f_11eb_9e61_005056c00008row6_col4{\n",
       "            background-color:  #e36b54;\n",
       "            color:  #000000;\n",
       "        }#T_0ea71e4c_c72f_11eb_9e61_005056c00008row7_col2{\n",
       "            background-color:  #b7cff9;\n",
       "            color:  #000000;\n",
       "        }#T_0ea71e4c_c72f_11eb_9e61_005056c00008row7_col5{\n",
       "            background-color:  #5673e0;\n",
       "            color:  #000000;\n",
       "        }</style><table id=\"T_0ea71e4c_c72f_11eb_9e61_005056c00008\" ><thead>    <tr>        <th class=\"blank level0\" ></th>        <th class=\"col_heading level0 col0\" >Survived</th>        <th class=\"col_heading level0 col1\" >Pclass</th>        <th class=\"col_heading level0 col2\" >Age</th>        <th class=\"col_heading level0 col3\" >SibSp</th>        <th class=\"col_heading level0 col4\" >Parch</th>        <th class=\"col_heading level0 col5\" >Fare</th>        <th class=\"col_heading level0 col6\" >Family Size</th>        <th class=\"col_heading level0 col7\" >Alone</th>    </tr></thead><tbody>\n",
       "                <tr>\n",
       "                        <th id=\"T_0ea71e4c_c72f_11eb_9e61_005056c00008level0_row0\" class=\"row_heading level0 row0\" >Survived</th>\n",
       "                        <td id=\"T_0ea71e4c_c72f_11eb_9e61_005056c00008row0_col0\" class=\"data row0 col0\" >1.000000</td>\n",
       "                        <td id=\"T_0ea71e4c_c72f_11eb_9e61_005056c00008row0_col1\" class=\"data row0 col1\" >-0.338481</td>\n",
       "                        <td id=\"T_0ea71e4c_c72f_11eb_9e61_005056c00008row0_col2\" class=\"data row0 col2\" >-0.069809</td>\n",
       "                        <td id=\"T_0ea71e4c_c72f_11eb_9e61_005056c00008row0_col3\" class=\"data row0 col3\" >-0.035322</td>\n",
       "                        <td id=\"T_0ea71e4c_c72f_11eb_9e61_005056c00008row0_col4\" class=\"data row0 col4\" >0.081629</td>\n",
       "                        <td id=\"T_0ea71e4c_c72f_11eb_9e61_005056c00008row0_col5\" class=\"data row0 col5\" >0.257307</td>\n",
       "                        <td id=\"T_0ea71e4c_c72f_11eb_9e61_005056c00008row0_col6\" class=\"data row0 col6\" >0.016639</td>\n",
       "                        <td id=\"T_0ea71e4c_c72f_11eb_9e61_005056c00008row0_col7\" class=\"data row0 col7\" >-0.241717</td>\n",
       "            </tr>\n",
       "            <tr>\n",
       "                        <th id=\"T_0ea71e4c_c72f_11eb_9e61_005056c00008level0_row1\" class=\"row_heading level0 row1\" >Pclass</th>\n",
       "                        <td id=\"T_0ea71e4c_c72f_11eb_9e61_005056c00008row1_col0\" class=\"data row1 col0\" >-0.338481</td>\n",
       "                        <td id=\"T_0ea71e4c_c72f_11eb_9e61_005056c00008row1_col1\" class=\"data row1 col1\" >1.000000</td>\n",
       "                        <td id=\"T_0ea71e4c_c72f_11eb_9e61_005056c00008row1_col2\" class=\"data row1 col2\" >-0.331339</td>\n",
       "                        <td id=\"T_0ea71e4c_c72f_11eb_9e61_005056c00008row1_col3\" class=\"data row1 col3\" >0.083081</td>\n",
       "                        <td id=\"T_0ea71e4c_c72f_11eb_9e61_005056c00008row1_col4\" class=\"data row1 col4\" >0.018443</td>\n",
       "                        <td id=\"T_0ea71e4c_c72f_11eb_9e61_005056c00008row1_col5\" class=\"data row1 col5\" >-0.549500</td>\n",
       "                        <td id=\"T_0ea71e4c_c72f_11eb_9e61_005056c00008row1_col6\" class=\"data row1 col6\" >0.065997</td>\n",
       "                        <td id=\"T_0ea71e4c_c72f_11eb_9e61_005056c00008row1_col7\" class=\"data row1 col7\" >0.218834</td>\n",
       "            </tr>\n",
       "            <tr>\n",
       "                        <th id=\"T_0ea71e4c_c72f_11eb_9e61_005056c00008level0_row2\" class=\"row_heading level0 row2\" >Age</th>\n",
       "                        <td id=\"T_0ea71e4c_c72f_11eb_9e61_005056c00008row2_col0\" class=\"data row2 col0\" >-0.069809</td>\n",
       "                        <td id=\"T_0ea71e4c_c72f_11eb_9e61_005056c00008row2_col1\" class=\"data row2 col1\" >-0.331339</td>\n",
       "                        <td id=\"T_0ea71e4c_c72f_11eb_9e61_005056c00008row2_col2\" class=\"data row2 col2\" >1.000000</td>\n",
       "                        <td id=\"T_0ea71e4c_c72f_11eb_9e61_005056c00008row2_col3\" class=\"data row2 col3\" >-0.232625</td>\n",
       "                        <td id=\"T_0ea71e4c_c72f_11eb_9e61_005056c00008row2_col4\" class=\"data row2 col4\" >-0.179191</td>\n",
       "                        <td id=\"T_0ea71e4c_c72f_11eb_9e61_005056c00008row2_col5\" class=\"data row2 col5\" >0.091566</td>\n",
       "                        <td id=\"T_0ea71e4c_c72f_11eb_9e61_005056c00008row2_col6\" class=\"data row2 col6\" >-0.248512</td>\n",
       "                        <td id=\"T_0ea71e4c_c72f_11eb_9e61_005056c00008row2_col7\" class=\"data row2 col7\" >0.163989</td>\n",
       "            </tr>\n",
       "            <tr>\n",
       "                        <th id=\"T_0ea71e4c_c72f_11eb_9e61_005056c00008level0_row3\" class=\"row_heading level0 row3\" >SibSp</th>\n",
       "                        <td id=\"T_0ea71e4c_c72f_11eb_9e61_005056c00008row3_col0\" class=\"data row3 col0\" >-0.035322</td>\n",
       "                        <td id=\"T_0ea71e4c_c72f_11eb_9e61_005056c00008row3_col1\" class=\"data row3 col1\" >0.083081</td>\n",
       "                        <td id=\"T_0ea71e4c_c72f_11eb_9e61_005056c00008row3_col2\" class=\"data row3 col2\" >-0.232625</td>\n",
       "                        <td id=\"T_0ea71e4c_c72f_11eb_9e61_005056c00008row3_col3\" class=\"data row3 col3\" >1.000000</td>\n",
       "                        <td id=\"T_0ea71e4c_c72f_11eb_9e61_005056c00008row3_col4\" class=\"data row3 col4\" >0.414838</td>\n",
       "                        <td id=\"T_0ea71e4c_c72f_11eb_9e61_005056c00008row3_col5\" class=\"data row3 col5\" >0.159651</td>\n",
       "                        <td id=\"T_0ea71e4c_c72f_11eb_9e61_005056c00008row3_col6\" class=\"data row3 col6\" >0.890712</td>\n",
       "                        <td id=\"T_0ea71e4c_c72f_11eb_9e61_005056c00008row3_col7\" class=\"data row3 col7\" >-0.492459</td>\n",
       "            </tr>\n",
       "            <tr>\n",
       "                        <th id=\"T_0ea71e4c_c72f_11eb_9e61_005056c00008level0_row4\" class=\"row_heading level0 row4\" >Parch</th>\n",
       "                        <td id=\"T_0ea71e4c_c72f_11eb_9e61_005056c00008row4_col0\" class=\"data row4 col0\" >0.081629</td>\n",
       "                        <td id=\"T_0ea71e4c_c72f_11eb_9e61_005056c00008row4_col1\" class=\"data row4 col1\" >0.018443</td>\n",
       "                        <td id=\"T_0ea71e4c_c72f_11eb_9e61_005056c00008row4_col2\" class=\"data row4 col2\" >-0.179191</td>\n",
       "                        <td id=\"T_0ea71e4c_c72f_11eb_9e61_005056c00008row4_col3\" class=\"data row4 col3\" >0.414838</td>\n",
       "                        <td id=\"T_0ea71e4c_c72f_11eb_9e61_005056c00008row4_col4\" class=\"data row4 col4\" >1.000000</td>\n",
       "                        <td id=\"T_0ea71e4c_c72f_11eb_9e61_005056c00008row4_col5\" class=\"data row4 col5\" >0.216225</td>\n",
       "                        <td id=\"T_0ea71e4c_c72f_11eb_9e61_005056c00008row4_col6\" class=\"data row4 col6\" >0.783111</td>\n",
       "                        <td id=\"T_0ea71e4c_c72f_11eb_9e61_005056c00008row4_col7\" class=\"data row4 col7\" >-0.491554</td>\n",
       "            </tr>\n",
       "            <tr>\n",
       "                        <th id=\"T_0ea71e4c_c72f_11eb_9e61_005056c00008level0_row5\" class=\"row_heading level0 row5\" >Fare</th>\n",
       "                        <td id=\"T_0ea71e4c_c72f_11eb_9e61_005056c00008row5_col0\" class=\"data row5 col0\" >0.257307</td>\n",
       "                        <td id=\"T_0ea71e4c_c72f_11eb_9e61_005056c00008row5_col1\" class=\"data row5 col1\" >-0.549500</td>\n",
       "                        <td id=\"T_0ea71e4c_c72f_11eb_9e61_005056c00008row5_col2\" class=\"data row5 col2\" >0.091566</td>\n",
       "                        <td id=\"T_0ea71e4c_c72f_11eb_9e61_005056c00008row5_col3\" class=\"data row5 col3\" >0.159651</td>\n",
       "                        <td id=\"T_0ea71e4c_c72f_11eb_9e61_005056c00008row5_col4\" class=\"data row5 col4\" >0.216225</td>\n",
       "                        <td id=\"T_0ea71e4c_c72f_11eb_9e61_005056c00008row5_col5\" class=\"data row5 col5\" >1.000000</td>\n",
       "                        <td id=\"T_0ea71e4c_c72f_11eb_9e61_005056c00008row5_col6\" class=\"data row5 col6\" >0.217138</td>\n",
       "                        <td id=\"T_0ea71e4c_c72f_11eb_9e61_005056c00008row5_col7\" class=\"data row5 col7\" >-0.404686</td>\n",
       "            </tr>\n",
       "            <tr>\n",
       "                        <th id=\"T_0ea71e4c_c72f_11eb_9e61_005056c00008level0_row6\" class=\"row_heading level0 row6\" >Family Size</th>\n",
       "                        <td id=\"T_0ea71e4c_c72f_11eb_9e61_005056c00008row6_col0\" class=\"data row6 col0\" >0.016639</td>\n",
       "                        <td id=\"T_0ea71e4c_c72f_11eb_9e61_005056c00008row6_col1\" class=\"data row6 col1\" >0.065997</td>\n",
       "                        <td id=\"T_0ea71e4c_c72f_11eb_9e61_005056c00008row6_col2\" class=\"data row6 col2\" >-0.248512</td>\n",
       "                        <td id=\"T_0ea71e4c_c72f_11eb_9e61_005056c00008row6_col3\" class=\"data row6 col3\" >0.890712</td>\n",
       "                        <td id=\"T_0ea71e4c_c72f_11eb_9e61_005056c00008row6_col4\" class=\"data row6 col4\" >0.783111</td>\n",
       "                        <td id=\"T_0ea71e4c_c72f_11eb_9e61_005056c00008row6_col5\" class=\"data row6 col5\" >0.217138</td>\n",
       "                        <td id=\"T_0ea71e4c_c72f_11eb_9e61_005056c00008row6_col6\" class=\"data row6 col6\" >1.000000</td>\n",
       "                        <td id=\"T_0ea71e4c_c72f_11eb_9e61_005056c00008row6_col7\" class=\"data row6 col7\" >-0.582151</td>\n",
       "            </tr>\n",
       "            <tr>\n",
       "                        <th id=\"T_0ea71e4c_c72f_11eb_9e61_005056c00008level0_row7\" class=\"row_heading level0 row7\" >Alone</th>\n",
       "                        <td id=\"T_0ea71e4c_c72f_11eb_9e61_005056c00008row7_col0\" class=\"data row7 col0\" >-0.241717</td>\n",
       "                        <td id=\"T_0ea71e4c_c72f_11eb_9e61_005056c00008row7_col1\" class=\"data row7 col1\" >0.218834</td>\n",
       "                        <td id=\"T_0ea71e4c_c72f_11eb_9e61_005056c00008row7_col2\" class=\"data row7 col2\" >0.163989</td>\n",
       "                        <td id=\"T_0ea71e4c_c72f_11eb_9e61_005056c00008row7_col3\" class=\"data row7 col3\" >-0.492459</td>\n",
       "                        <td id=\"T_0ea71e4c_c72f_11eb_9e61_005056c00008row7_col4\" class=\"data row7 col4\" >-0.491554</td>\n",
       "                        <td id=\"T_0ea71e4c_c72f_11eb_9e61_005056c00008row7_col5\" class=\"data row7 col5\" >-0.404686</td>\n",
       "                        <td id=\"T_0ea71e4c_c72f_11eb_9e61_005056c00008row7_col6\" class=\"data row7 col6\" >-0.582151</td>\n",
       "                        <td id=\"T_0ea71e4c_c72f_11eb_9e61_005056c00008row7_col7\" class=\"data row7 col7\" >1.000000</td>\n",
       "            </tr>\n",
       "    </tbody></table>"
      ],
      "text/plain": [
       "<pandas.io.formats.style.Styler at 0x29bea040790>"
      ]
     },
     "execution_count": 17,
     "metadata": {},
     "output_type": "execute_result"
    }
   ],
   "source": [
    "# draw the correlation matrix\n",
    "corr = train_df.corr()\n",
    "corr.style.background_gradient(cmap='coolwarm')"
   ]
  },
  {
   "cell_type": "code",
   "execution_count": 18,
   "metadata": {},
   "outputs": [],
   "source": [
    "# drop highly correlated features with name and cabin\n",
    "train_df.drop(\n",
    "    columns=['SibSp','Parch','Name','Cabin'],\n",
    "    inplace=True)"
   ]
  },
  {
   "cell_type": "code",
   "execution_count": 19,
   "metadata": {},
   "outputs": [],
   "source": [
    "# code categorical data\n",
    "train_df = pd.get_dummies(train_df)"
   ]
  },
  {
   "cell_type": "code",
   "execution_count": 20,
   "metadata": {},
   "outputs": [
    {
     "data": {
      "text/html": [
       "<div>\n",
       "<style scoped>\n",
       "    .dataframe tbody tr th:only-of-type {\n",
       "        vertical-align: middle;\n",
       "    }\n",
       "\n",
       "    .dataframe tbody tr th {\n",
       "        vertical-align: top;\n",
       "    }\n",
       "\n",
       "    .dataframe thead th {\n",
       "        text-align: right;\n",
       "    }\n",
       "</style>\n",
       "<table border=\"1\" class=\"dataframe\">\n",
       "  <thead>\n",
       "    <tr style=\"text-align: right;\">\n",
       "      <th></th>\n",
       "      <th>Survived</th>\n",
       "      <th>Pclass</th>\n",
       "      <th>Age</th>\n",
       "      <th>Fare</th>\n",
       "      <th>Family Size</th>\n",
       "      <th>Alone</th>\n",
       "      <th>Sex_female</th>\n",
       "      <th>Sex_male</th>\n",
       "      <th>Embarked_C</th>\n",
       "      <th>Embarked_Q</th>\n",
       "      <th>Embarked_S</th>\n",
       "    </tr>\n",
       "    <tr>\n",
       "      <th>PassengerId</th>\n",
       "      <th></th>\n",
       "      <th></th>\n",
       "      <th></th>\n",
       "      <th></th>\n",
       "      <th></th>\n",
       "      <th></th>\n",
       "      <th></th>\n",
       "      <th></th>\n",
       "      <th></th>\n",
       "      <th></th>\n",
       "      <th></th>\n",
       "    </tr>\n",
       "  </thead>\n",
       "  <tbody>\n",
       "    <tr>\n",
       "      <th>1</th>\n",
       "      <td>0</td>\n",
       "      <td>3</td>\n",
       "      <td>22.000000</td>\n",
       "      <td>7.2500</td>\n",
       "      <td>1</td>\n",
       "      <td>0.0</td>\n",
       "      <td>0</td>\n",
       "      <td>1</td>\n",
       "      <td>0</td>\n",
       "      <td>0</td>\n",
       "      <td>1</td>\n",
       "    </tr>\n",
       "    <tr>\n",
       "      <th>2</th>\n",
       "      <td>1</td>\n",
       "      <td>1</td>\n",
       "      <td>38.000000</td>\n",
       "      <td>71.2833</td>\n",
       "      <td>1</td>\n",
       "      <td>0.0</td>\n",
       "      <td>1</td>\n",
       "      <td>0</td>\n",
       "      <td>1</td>\n",
       "      <td>0</td>\n",
       "      <td>0</td>\n",
       "    </tr>\n",
       "    <tr>\n",
       "      <th>3</th>\n",
       "      <td>1</td>\n",
       "      <td>3</td>\n",
       "      <td>26.000000</td>\n",
       "      <td>7.9250</td>\n",
       "      <td>0</td>\n",
       "      <td>1.0</td>\n",
       "      <td>1</td>\n",
       "      <td>0</td>\n",
       "      <td>0</td>\n",
       "      <td>0</td>\n",
       "      <td>1</td>\n",
       "    </tr>\n",
       "    <tr>\n",
       "      <th>4</th>\n",
       "      <td>1</td>\n",
       "      <td>1</td>\n",
       "      <td>35.000000</td>\n",
       "      <td>53.1000</td>\n",
       "      <td>1</td>\n",
       "      <td>0.0</td>\n",
       "      <td>1</td>\n",
       "      <td>0</td>\n",
       "      <td>0</td>\n",
       "      <td>0</td>\n",
       "      <td>1</td>\n",
       "    </tr>\n",
       "    <tr>\n",
       "      <th>5</th>\n",
       "      <td>0</td>\n",
       "      <td>3</td>\n",
       "      <td>35.000000</td>\n",
       "      <td>8.0500</td>\n",
       "      <td>0</td>\n",
       "      <td>1.0</td>\n",
       "      <td>0</td>\n",
       "      <td>1</td>\n",
       "      <td>0</td>\n",
       "      <td>0</td>\n",
       "      <td>1</td>\n",
       "    </tr>\n",
       "    <tr>\n",
       "      <th>...</th>\n",
       "      <td>...</td>\n",
       "      <td>...</td>\n",
       "      <td>...</td>\n",
       "      <td>...</td>\n",
       "      <td>...</td>\n",
       "      <td>...</td>\n",
       "      <td>...</td>\n",
       "      <td>...</td>\n",
       "      <td>...</td>\n",
       "      <td>...</td>\n",
       "      <td>...</td>\n",
       "    </tr>\n",
       "    <tr>\n",
       "      <th>887</th>\n",
       "      <td>0</td>\n",
       "      <td>2</td>\n",
       "      <td>27.000000</td>\n",
       "      <td>13.0000</td>\n",
       "      <td>0</td>\n",
       "      <td>1.0</td>\n",
       "      <td>0</td>\n",
       "      <td>1</td>\n",
       "      <td>0</td>\n",
       "      <td>0</td>\n",
       "      <td>1</td>\n",
       "    </tr>\n",
       "    <tr>\n",
       "      <th>888</th>\n",
       "      <td>1</td>\n",
       "      <td>1</td>\n",
       "      <td>19.000000</td>\n",
       "      <td>30.0000</td>\n",
       "      <td>0</td>\n",
       "      <td>1.0</td>\n",
       "      <td>1</td>\n",
       "      <td>0</td>\n",
       "      <td>0</td>\n",
       "      <td>0</td>\n",
       "      <td>1</td>\n",
       "    </tr>\n",
       "    <tr>\n",
       "      <th>889</th>\n",
       "      <td>0</td>\n",
       "      <td>3</td>\n",
       "      <td>29.699118</td>\n",
       "      <td>23.4500</td>\n",
       "      <td>3</td>\n",
       "      <td>0.0</td>\n",
       "      <td>1</td>\n",
       "      <td>0</td>\n",
       "      <td>0</td>\n",
       "      <td>0</td>\n",
       "      <td>1</td>\n",
       "    </tr>\n",
       "    <tr>\n",
       "      <th>890</th>\n",
       "      <td>1</td>\n",
       "      <td>1</td>\n",
       "      <td>26.000000</td>\n",
       "      <td>30.0000</td>\n",
       "      <td>0</td>\n",
       "      <td>1.0</td>\n",
       "      <td>0</td>\n",
       "      <td>1</td>\n",
       "      <td>1</td>\n",
       "      <td>0</td>\n",
       "      <td>0</td>\n",
       "    </tr>\n",
       "    <tr>\n",
       "      <th>891</th>\n",
       "      <td>0</td>\n",
       "      <td>3</td>\n",
       "      <td>32.000000</td>\n",
       "      <td>7.7500</td>\n",
       "      <td>0</td>\n",
       "      <td>1.0</td>\n",
       "      <td>0</td>\n",
       "      <td>1</td>\n",
       "      <td>0</td>\n",
       "      <td>1</td>\n",
       "      <td>0</td>\n",
       "    </tr>\n",
       "  </tbody>\n",
       "</table>\n",
       "<p>891 rows × 11 columns</p>\n",
       "</div>"
      ],
      "text/plain": [
       "             Survived  Pclass        Age     Fare  Family Size  Alone  \\\n",
       "PassengerId                                                             \n",
       "1                   0       3  22.000000   7.2500            1    0.0   \n",
       "2                   1       1  38.000000  71.2833            1    0.0   \n",
       "3                   1       3  26.000000   7.9250            0    1.0   \n",
       "4                   1       1  35.000000  53.1000            1    0.0   \n",
       "5                   0       3  35.000000   8.0500            0    1.0   \n",
       "...               ...     ...        ...      ...          ...    ...   \n",
       "887                 0       2  27.000000  13.0000            0    1.0   \n",
       "888                 1       1  19.000000  30.0000            0    1.0   \n",
       "889                 0       3  29.699118  23.4500            3    0.0   \n",
       "890                 1       1  26.000000  30.0000            0    1.0   \n",
       "891                 0       3  32.000000   7.7500            0    1.0   \n",
       "\n",
       "             Sex_female  Sex_male  Embarked_C  Embarked_Q  Embarked_S  \n",
       "PassengerId                                                            \n",
       "1                     0         1           0           0           1  \n",
       "2                     1         0           1           0           0  \n",
       "3                     1         0           0           0           1  \n",
       "4                     1         0           0           0           1  \n",
       "5                     0         1           0           0           1  \n",
       "...                 ...       ...         ...         ...         ...  \n",
       "887                   0         1           0           0           1  \n",
       "888                   1         0           0           0           1  \n",
       "889                   1         0           0           0           1  \n",
       "890                   0         1           1           0           0  \n",
       "891                   0         1           0           1           0  \n",
       "\n",
       "[891 rows x 11 columns]"
      ]
     },
     "execution_count": 20,
     "metadata": {},
     "output_type": "execute_result"
    }
   ],
   "source": [
    "train_df"
   ]
  },
  {
   "cell_type": "markdown",
   "metadata": {},
   "source": [
    "## Classification Model"
   ]
  },
  {
   "cell_type": "code",
   "execution_count": 21,
   "metadata": {},
   "outputs": [],
   "source": [
    "# preprocess data for entering the model\n",
    "def preprocess_data(df):\n",
    "    # create the family size column\n",
    "    df['Family Size'] = df['SibSp'] + df['Parch'] \n",
    "    # create an alone column \n",
    "    df.set_index('Ticket',inplace=True)\n",
    "    df['Alone'] = np.nan\n",
    "    df.loc[(df.groupby(['Ticket']).count()['PassengerId']) ==True,'Alone'] = 1\n",
    "    df.loc[(df['Family Size'] > 0) & (df['Alone'] == 1), 'Alone'] = 0\n",
    "    df['Alone'] = df['Alone'].fillna(0)\n",
    "    df.reset_index(inplace=True)\n",
    "    # drop the columns\n",
    "    df.drop(\n",
    "    columns=['SibSp','Parch','Name','Cabin','Ticket'],\n",
    "    inplace=True)\n",
    "    df = df.fillna(test_df.mean())\n",
    "    df['Embarked'] = df['Embarked'].fillna(df['Embarked'].fillna(df['Embarked'].mode()))\n",
    "    \n",
    "    # code categorical columns\n",
    "    df.set_index(\"PassengerId\", inplace = True)\n",
    "    df = pd.get_dummies(df)\n",
    "    df_scale = preprocessing.StandardScaler().fit_transform(df)\n",
    "    return df_scale\n"
   ]
  },
  {
   "cell_type": "code",
   "execution_count": 22,
   "metadata": {},
   "outputs": [],
   "source": [
    "# scale data before passing it into the mode\n",
    "X_norm = preprocessing.StandardScaler().fit_transform(train_df.drop(columns=['Survived']))\n",
    "X_norm\n",
    "Y = train_df['Survived']"
   ]
  },
  {
   "cell_type": "code",
   "execution_count": 23,
   "metadata": {},
   "outputs": [],
   "source": [
    "# split data to measure accuracy of logistic regression and ridge regression and choose the optimal model\n",
    "x_train, x_test, y_train, y_test = train_test_split(X_norm, Y, test_size=0.2, random_state=0)"
   ]
  },
  {
   "cell_type": "code",
   "execution_count": 24,
   "metadata": {
    "scrolled": false
   },
   "outputs": [
    {
     "data": {
      "text/plain": [
       "LogisticRegression(class_weight='balanced', random_state=42)"
      ]
     },
     "execution_count": 24,
     "metadata": {},
     "output_type": "execute_result"
    }
   ],
   "source": [
    "# class weight is balanced as the number of passengers that didn't survive the titanic are higher making the label imbalanced\n",
    "lg_model = LogisticRegression(class_weight='balanced',random_state=42)\n",
    "lg_model.fit(x_train, y_train)"
   ]
  },
  {
   "cell_type": "code",
   "execution_count": 25,
   "metadata": {},
   "outputs": [],
   "source": [
    "lg_pred = lg_model.predict(x_test)"
   ]
  },
  {
   "cell_type": "code",
   "execution_count": 26,
   "metadata": {},
   "outputs": [
    {
     "data": {
      "text/plain": [
       "RidgeClassifier(class_weight='balanced', random_state=42)"
      ]
     },
     "execution_count": 26,
     "metadata": {},
     "output_type": "execute_result"
    }
   ],
   "source": [
    "ridge_model = RidgeClassifier(class_weight='balanced',random_state=42)\n",
    "ridge_model.fit(x_train,y_train)"
   ]
  },
  {
   "cell_type": "code",
   "execution_count": 27,
   "metadata": {},
   "outputs": [],
   "source": [
    "pred_ridge = ridge_model.predict(x_test)"
   ]
  },
  {
   "cell_type": "code",
   "execution_count": 28,
   "metadata": {},
   "outputs": [
    {
     "name": "stdout",
     "output_type": "stream",
     "text": [
      "Classification report for the Logistic Regression model\n",
      "\n",
      "               precision    recall  f1-score   support\n",
      "\n",
      "           0       0.80      0.87      0.83       101\n",
      "           1       0.81      0.72      0.76        78\n",
      "\n",
      "    accuracy                           0.80       179\n",
      "   macro avg       0.81      0.79      0.80       179\n",
      "weighted avg       0.81      0.80      0.80       179\n",
      "\n",
      "Classification report for the Ridge Regression model\n",
      "\n",
      "               precision    recall  f1-score   support\n",
      "\n",
      "           0       0.79      0.88      0.83        99\n",
      "           1       0.83      0.71      0.77        80\n",
      "\n",
      "    accuracy                           0.80       179\n",
      "   macro avg       0.81      0.80      0.80       179\n",
      "weighted avg       0.81      0.80      0.80       179\n",
      "\n"
     ]
    }
   ],
   "source": [
    "print(\"Classification report for the Logistic Regression model\\n\\n\",classification_report(pred_ridge, y_test))\n",
    "print(\"Classification report for the Ridge Regression model\\n\\n\",classification_report(lg_pred, y_test))"
   ]
  },
  {
   "cell_type": "markdown",
   "metadata": {},
   "source": [
    "Logistic regression and ridge regression are very close however, given the data I think ridge regression would be better"
   ]
  },
  {
   "cell_type": "markdown",
   "metadata": {},
   "source": [
    "## Predicting the test file"
   ]
  },
  {
   "cell_type": "code",
   "execution_count": 29,
   "metadata": {},
   "outputs": [],
   "source": [
    "test_df = pd.read_csv(r'data/test.csv')"
   ]
  },
  {
   "cell_type": "code",
   "execution_count": 30,
   "metadata": {
    "scrolled": true
   },
   "outputs": [],
   "source": [
    "test_df2 = preprocess_data(test_df)"
   ]
  },
  {
   "cell_type": "code",
   "execution_count": 31,
   "metadata": {},
   "outputs": [],
   "source": [
    "test_df.set_index(\"PassengerId\",inplace=True)"
   ]
  },
  {
   "cell_type": "code",
   "execution_count": 35,
   "metadata": {},
   "outputs": [],
   "source": [
    "final_pred = ridge_model.predict(test_df2)"
   ]
  },
  {
   "cell_type": "code",
   "execution_count": 36,
   "metadata": {},
   "outputs": [
    {
     "data": {
      "text/html": [
       "<div>\n",
       "<style scoped>\n",
       "    .dataframe tbody tr th:only-of-type {\n",
       "        vertical-align: middle;\n",
       "    }\n",
       "\n",
       "    .dataframe tbody tr th {\n",
       "        vertical-align: top;\n",
       "    }\n",
       "\n",
       "    .dataframe thead th {\n",
       "        text-align: right;\n",
       "    }\n",
       "</style>\n",
       "<table border=\"1\" class=\"dataframe\">\n",
       "  <thead>\n",
       "    <tr style=\"text-align: right;\">\n",
       "      <th></th>\n",
       "      <th>Survived</th>\n",
       "    </tr>\n",
       "    <tr>\n",
       "      <th>PassengerId</th>\n",
       "      <th></th>\n",
       "    </tr>\n",
       "  </thead>\n",
       "  <tbody>\n",
       "    <tr>\n",
       "      <th>892</th>\n",
       "      <td>0</td>\n",
       "    </tr>\n",
       "    <tr>\n",
       "      <th>893</th>\n",
       "      <td>1</td>\n",
       "    </tr>\n",
       "    <tr>\n",
       "      <th>894</th>\n",
       "      <td>0</td>\n",
       "    </tr>\n",
       "    <tr>\n",
       "      <th>895</th>\n",
       "      <td>0</td>\n",
       "    </tr>\n",
       "    <tr>\n",
       "      <th>896</th>\n",
       "      <td>1</td>\n",
       "    </tr>\n",
       "    <tr>\n",
       "      <th>897</th>\n",
       "      <td>0</td>\n",
       "    </tr>\n",
       "    <tr>\n",
       "      <th>898</th>\n",
       "      <td>1</td>\n",
       "    </tr>\n",
       "    <tr>\n",
       "      <th>899</th>\n",
       "      <td>0</td>\n",
       "    </tr>\n",
       "    <tr>\n",
       "      <th>900</th>\n",
       "      <td>1</td>\n",
       "    </tr>\n",
       "    <tr>\n",
       "      <th>901</th>\n",
       "      <td>0</td>\n",
       "    </tr>\n",
       "  </tbody>\n",
       "</table>\n",
       "</div>"
      ],
      "text/plain": [
       "             Survived\n",
       "PassengerId          \n",
       "892                 0\n",
       "893                 1\n",
       "894                 0\n",
       "895                 0\n",
       "896                 1\n",
       "897                 0\n",
       "898                 1\n",
       "899                 0\n",
       "900                 1\n",
       "901                 0"
      ]
     },
     "execution_count": 36,
     "metadata": {},
     "output_type": "execute_result"
    }
   ],
   "source": [
    "pred_df = pd.DataFrame(final_pred, columns = ['Survived'])\n",
    "pred_df.set_index(test_df.index, inplace = True)\n",
    "pred_df.head(10)"
   ]
  },
  {
   "cell_type": "code",
   "execution_count": 37,
   "metadata": {},
   "outputs": [],
   "source": [
    "pred_df.to_csv(r'data/predictions.csv', index=True)"
   ]
  },
  {
   "cell_type": "code",
   "execution_count": null,
   "metadata": {},
   "outputs": [],
   "source": []
  }
 ],
 "metadata": {
  "kernelspec": {
   "display_name": "Python 3",
   "language": "python",
   "name": "python3"
  },
  "language_info": {
   "codemirror_mode": {
    "name": "ipython",
    "version": 3
   },
   "file_extension": ".py",
   "mimetype": "text/x-python",
   "name": "python",
   "nbconvert_exporter": "python",
   "pygments_lexer": "ipython3",
   "version": "3.8.3"
  }
 },
 "nbformat": 4,
 "nbformat_minor": 4
}
